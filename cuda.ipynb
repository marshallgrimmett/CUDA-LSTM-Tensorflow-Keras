{
 "cells": [
  {
   "cell_type": "code",
   "execution_count": 58,
   "metadata": {},
   "outputs": [],
   "source": [
    "import os\n",
    "import tensorflow as tf"
   ]
  },
  {
   "cell_type": "code",
   "execution_count": 59,
   "metadata": {},
   "outputs": [],
   "source": [
    "#sess = tf.Session()\n",
    "#sess = tf.Session(config=tf.ConfigProto(log_device_placement=True))"
   ]
  },
  {
   "cell_type": "code",
   "execution_count": 60,
   "metadata": {},
   "outputs": [
    {
     "name": "stdout",
     "output_type": "stream",
     "text": [
      "[name: \"/device:CPU:0\"\n",
      "device_type: \"CPU\"\n",
      "memory_limit: 268435456\n",
      "locality {\n",
      "}\n",
      "incarnation: 18020042640330680781\n",
      ", name: \"/device:XLA_CPU:0\"\n",
      "device_type: \"XLA_CPU\"\n",
      "memory_limit: 17179869184\n",
      "locality {\n",
      "}\n",
      "incarnation: 66150759838984396\n",
      "physical_device_desc: \"device: XLA_CPU device\"\n",
      ", name: \"/device:GPU:0\"\n",
      "device_type: \"GPU\"\n",
      "memory_limit: 6507127385\n",
      "locality {\n",
      "  bus_id: 1\n",
      "  links {\n",
      "  }\n",
      "}\n",
      "incarnation: 18245199007373025123\n",
      "physical_device_desc: \"device: 0, name: GeForce RTX 2070 SUPER, pci bus id: 0000:08:00.0, compute capability: 7.5\"\n",
      ", name: \"/device:XLA_GPU:0\"\n",
      "device_type: \"XLA_GPU\"\n",
      "memory_limit: 17179869184\n",
      "locality {\n",
      "}\n",
      "incarnation: 5661439635443509512\n",
      "physical_device_desc: \"device: XLA_GPU device\"\n",
      "]\n"
     ]
    }
   ],
   "source": [
    "from tensorflow.python.client import device_lib\n",
    "print(device_lib.list_local_devices())"
   ]
  },
  {
   "cell_type": "code",
   "execution_count": 7,
   "metadata": {},
   "outputs": [
    {
     "ename": "AttributeError",
     "evalue": "module 'keras.backend' has no attribute 'tensorflow_backend'",
     "output_type": "error",
     "traceback": [
      "\u001b[1;31m---------------------------------------------------------------------------\u001b[0m",
      "\u001b[1;31mAttributeError\u001b[0m                            Traceback (most recent call last)",
      "\u001b[1;32m<ipython-input-7-3d00d838479b>\u001b[0m in \u001b[0;36m<module>\u001b[1;34m\u001b[0m\n\u001b[0;32m      1\u001b[0m \u001b[1;32mfrom\u001b[0m \u001b[0mkeras\u001b[0m \u001b[1;32mimport\u001b[0m \u001b[0mbackend\u001b[0m \u001b[1;32mas\u001b[0m \u001b[0mK\u001b[0m\u001b[1;33m\u001b[0m\u001b[1;33m\u001b[0m\u001b[0m\n\u001b[1;32m----> 2\u001b[1;33m \u001b[0mK\u001b[0m\u001b[1;33m.\u001b[0m\u001b[0mtensorflow_backend\u001b[0m\u001b[1;33m.\u001b[0m\u001b[0m_get_available_gpus\u001b[0m\u001b[1;33m(\u001b[0m\u001b[1;33m)\u001b[0m\u001b[1;33m\u001b[0m\u001b[1;33m\u001b[0m\u001b[0m\n\u001b[0m",
      "\u001b[1;31mAttributeError\u001b[0m: module 'keras.backend' has no attribute 'tensorflow_backend'"
     ]
    }
   ],
   "source": [
    "from keras import backend as K\n",
    "K.tensorflow_backend._get_available_gpus()"
   ]
  },
  {
   "cell_type": "code",
   "execution_count": 4,
   "metadata": {},
   "outputs": [
    {
     "name": "stdout",
     "output_type": "stream",
     "text": [
      "Num GPUs Available:  0\n"
     ]
    },
    {
     "data": {
      "text/plain": [
       "[]"
      ]
     },
     "execution_count": 4,
     "metadata": {},
     "output_type": "execute_result"
    }
   ],
   "source": [
    "import tensorflow as tf\n",
    "print(\"Num GPUs Available: \", len(tf.config.experimental.list_physical_devices('GPU')))\n",
    "tf.config.experimental.list_physical_devices('GPU')"
   ]
  },
  {
   "cell_type": "code",
   "execution_count": 44,
   "metadata": {},
   "outputs": [],
   "source": [
    "import os\n",
    "os.environ[\"CUDA_DEVICE_ORDER\"] = \"PCI_BUS_ID\"\n",
    "os.environ[\"CUDA_VISIBLE_DEVICES\"] = \"0\"\n",
    "import tensorflow as tf"
   ]
  },
  {
   "cell_type": "code",
   "execution_count": 45,
   "metadata": {},
   "outputs": [
    {
     "data": {
      "text/plain": [
       "True"
      ]
     },
     "execution_count": 45,
     "metadata": {},
     "output_type": "execute_result"
    }
   ],
   "source": [
    "tf.test.is_built_with_cuda()"
   ]
  },
  {
   "cell_type": "code",
   "execution_count": 46,
   "metadata": {},
   "outputs": [
    {
     "data": {
      "text/plain": [
       "True"
      ]
     },
     "execution_count": 46,
     "metadata": {},
     "output_type": "execute_result"
    }
   ],
   "source": [
    "tf.test.is_gpu_available(cuda_only=False, min_cuda_compute_capability=None)"
   ]
  },
  {
   "cell_type": "code",
   "execution_count": 35,
   "metadata": {},
   "outputs": [
    {
     "name": "stdout",
     "output_type": "stream",
     "text": [
      "['/device:CPU:0', '/device:XLA_CPU:0', '/device:GPU:0', '/device:XLA_GPU:0']\n"
     ]
    }
   ],
   "source": [
    "import os\n",
    "os.environ[\"CUDA_DEVICE_ORDER\"] = \"PCI_BUS_ID\"\n",
    "os.environ[\"CUDA_VISIBLE_DEVICES\"] = \"\"\n",
    "\n",
    "from tensorflow.python.client import device_lib\n",
    "def get_available_devices():\n",
    "    local_device_protos = device_lib.list_local_devices()\n",
    "    return [x.name for x in local_device_protos]\n",
    "print(get_available_devices()) "
   ]
  },
  {
   "cell_type": "code",
   "execution_count": 14,
   "metadata": {},
   "outputs": [
    {
     "name": "stdout",
     "output_type": "stream",
     "text": [
      "12.64148473739624\n",
      "Train Score: 22.89 RMSE\n",
      "Test Score: 51.30 RMSE\n"
     ]
    },
    {
     "data": {
      "image/png": "[encoded data removed]",
      "text/plain": [
       "<Figure size 432x288 with 1 Axes>"
      ]
     },
     "metadata": {
      "needs_background": "light"
     },
     "output_type": "display_data"
    }
   ],
   "source": [
    "# LSTM for international airline passengers problem with regression framing\n",
    "import numpy\n",
    "import matplotlib.pyplot as plt\n",
    "from pandas import read_csv\n",
    "import math\n",
    "import time\n",
    "import os\n",
    "os.environ[\"CUDA_VISIBLE_DEVICES\"]=\"\"\n",
    "import tensorflow\n",
    "from keras.models import Sequential\n",
    "from keras.layers import Dense\n",
    "from keras.layers import LSTM\n",
    "from sklearn.preprocessing import MinMaxScaler\n",
    "from sklearn.metrics import mean_squared_error\n",
    "\n",
    "# convert an array of values into a dataset matrix\n",
    "def create_dataset(dataset, look_back=1):\n",
    "    dataX, dataY = [], []\n",
    "    for i in range(len(dataset)-look_back-1):\n",
    "        a = dataset[i:(i+look_back), 0]\n",
    "        dataX.append(a)\n",
    "        dataY.append(dataset[i + look_back, 0])\n",
    "    return numpy.array(dataX), numpy.array(dataY)\n",
    "\n",
    "# fix random seed for reproducibility\n",
    "numpy.random.seed(7)\n",
    "\n",
    "# load the dataset\n",
    "dataframe = read_csv('airline-passengers.csv', usecols=[1], engine='python')\n",
    "dataset = dataframe.values\n",
    "dataset = dataset.astype('float32')\n",
    "\n",
    "# normalize the dataset\n",
    "scaler = MinMaxScaler(feature_range=(0, 1))\n",
    "dataset = scaler.fit_transform(dataset)\n",
    "\n",
    "# split into train and test sets\n",
    "train_size = int(len(dataset) * 0.67)\n",
    "test_size = len(dataset) - train_size\n",
    "train, test = dataset[0:train_size,:], dataset[train_size:len(dataset),:]\n",
    "\n",
    "# reshape into X=t and Y=t+1\n",
    "look_back = 1\n",
    "trainX, trainY = create_dataset(train, look_back)\n",
    "testX, testY = create_dataset(test, look_back)\n",
    "\n",
    "# reshape input to be [samples, time steps, features]\n",
    "trainX = numpy.reshape(trainX, (trainX.shape[0], 1, trainX.shape[1]))\n",
    "testX = numpy.reshape(testX, (testX.shape[0], 1, testX.shape[1]))\n",
    "\n",
    "start = time.time()\n",
    "\n",
    "# create and fit the LSTM network\n",
    "model = Sequential()\n",
    "model.add(LSTM(4, input_shape=(1, look_back)))\n",
    "model.add(Dense(1))\n",
    "model.compile(loss='mean_squared_error', optimizer='adam')\n",
    "model.fit(trainX, trainY, epochs=100, batch_size=1, verbose=0)\n",
    "\n",
    "end = time.time()\n",
    "print(end - start)\n",
    "\n",
    "# make predictions\n",
    "trainPredict = model.predict(trainX)\n",
    "testPredict = model.predict(testX)\n",
    "\n",
    "# invert predictions\n",
    "trainPredict = scaler.inverse_transform(trainPredict)\n",
    "trainY = scaler.inverse_transform([trainY])\n",
    "testPredict = scaler.inverse_transform(testPredict)\n",
    "testY = scaler.inverse_transform([testY])\n",
    "\n",
    "# calculate root mean squared error\n",
    "trainScore = math.sqrt(mean_squared_error(trainY[0], trainPredict[:,0]))\n",
    "print('Train Score: %.2f RMSE' % (trainScore))\n",
    "testScore = math.sqrt(mean_squared_error(testY[0], testPredict[:,0]))\n",
    "print('Test Score: %.2f RMSE' % (testScore))\n",
    "\n",
    "# shift train predictions for plotting\n",
    "trainPredictPlot = numpy.empty_like(dataset)\n",
    "trainPredictPlot[:, :] = numpy.nan\n",
    "trainPredictPlot[look_back:len(trainPredict)+look_back, :] = trainPredict\n",
    "\n",
    "# shift test predictions for plotting\n",
    "testPredictPlot = numpy.empty_like(dataset)\n",
    "testPredictPlot[:, :] = numpy.nan\n",
    "testPredictPlot[len(trainPredict)+(look_back*2)+1:len(dataset)-1, :] = testPredict\n",
    "\n",
    "# plot baseline and predictions\n",
    "plt.plot(scaler.inverse_transform(dataset))\n",
    "plt.plot(trainPredictPlot)\n",
    "plt.plot(testPredictPlot)\n",
    "plt.show()\n"
   ]
  },
  {
   "cell_type": "code",
   "execution_count": 27,
   "metadata": {},
   "outputs": [
    {
     "name": "stdout",
     "output_type": "stream",
     "text": [
      "[2010 1 1 0 nan -21 -11.0 1021.0 'NW' 1.79 0 0]\n",
      "[nan nan nan ... 10.0 8.0 12.0]\n",
      "[2010 1 1 0 nan -21 -11.0 1021.0 1 1.79 0 0]\n",
      "[nan nan nan ... 10.0 8.0 12.0]\n"
     ]
    }
   ],
   "source": [
    "# load dataset\n",
    "dataset = read_csv('pollution.csv', header=0, index_col=0)\n",
    "values = dataset.values\n",
    "print(values[0])\n",
    "print(values[:,4])\n",
    "\n",
    "# integer encode direction\n",
    "encoder = LabelEncoder()\n",
    "values[:,-4] = encoder.fit_transform(values[:,-4])\n",
    "# ensure all data is float\n",
    "# values = values.astype('float32')\n",
    "\n",
    "print(values[0])\n",
    "print(values[:,4])"
   ]
  },
  {
   "cell_type": "code",
   "execution_count": 61,
   "metadata": {},
   "outputs": [
    {
     "name": "stdout",
     "output_type": "stream",
     "text": [
      "    var1(t-1)  var2(t-1)  var3(t-1)  var4(t-1)  var5(t-1)  var6(t-1)  \\\n",
      "25        0.0        0.0   0.033333   0.000000   0.129779   0.352941   \n",
      "26        0.0        0.0   0.033333   0.043478   0.148893   0.367647   \n",
      "27        0.0        0.0   0.033333   0.086957   0.159960   0.426471   \n",
      "28        0.0        0.0   0.033333   0.130435   0.182093   0.485294   \n",
      "29        0.0        0.0   0.033333   0.173913   0.138833   0.485294   \n",
      "\n",
      "    var7(t-1)  var8(t-1)  var9(t-1)   var5(t)   var6(t)   var7(t)   var8(t)  \\\n",
      "25   0.245902   0.527273   0.666667  0.148893  0.367647  0.245902  0.527273   \n",
      "26   0.245902   0.527273   0.666667  0.159960  0.426471  0.229508  0.545454   \n",
      "27   0.229508   0.545454   0.666667  0.182093  0.485294  0.229508  0.563637   \n",
      "28   0.229508   0.563637   0.666667  0.138833  0.485294  0.229508  0.563637   \n",
      "29   0.229508   0.563637   0.666667  0.109658  0.485294  0.213115  0.563637   \n",
      "\n",
      "     var9(t)  var10(t)  var11(t)  var12(t)  \n",
      "25  0.666667  0.003811  0.000000       0.0  \n",
      "26  0.666667  0.005332  0.000000       0.0  \n",
      "27  0.666667  0.008391  0.037037       0.0  \n",
      "28  0.666667  0.009912  0.074074       0.0  \n",
      "29  0.666667  0.011433  0.111111       0.0  \n",
      "(8760, 1, 16) (8760,) (32783, 1, 16) (32783,)\n",
      "Epoch 1/50\n",
      "122/122 - 1s - loss: 0.0168 - val_loss: 0.0255\n",
      "Epoch 2/50\n",
      "122/122 - 1s - loss: 0.0118 - val_loss: 0.0164\n",
      "Epoch 3/50\n",
      "122/122 - 1s - loss: 0.0120 - val_loss: 0.0101\n",
      "Epoch 4/50\n",
      "122/122 - 1s - loss: 0.0111 - val_loss: 0.0089\n",
      "Epoch 5/50\n",
      "122/122 - 1s - loss: 0.0100 - val_loss: 0.0126\n",
      "Epoch 6/50\n",
      "122/122 - 1s - loss: 0.0104 - val_loss: 0.0093\n",
      "Epoch 7/50\n",
      "122/122 - 1s - loss: 0.0089 - val_loss: 0.0127\n",
      "Epoch 8/50\n",
      "122/122 - 1s - loss: 0.0086 - val_loss: 0.0176\n",
      "Epoch 9/50\n",
      "122/122 - 1s - loss: 0.0110 - val_loss: 0.0097\n",
      "Epoch 10/50\n",
      "122/122 - 1s - loss: 0.0100 - val_loss: 0.0108\n",
      "Epoch 11/50\n",
      "122/122 - 1s - loss: 0.0111 - val_loss: 0.0150\n",
      "Epoch 12/50\n",
      "122/122 - 1s - loss: 0.0101 - val_loss: 0.0128\n",
      "Epoch 13/50\n",
      "122/122 - 1s - loss: 0.0107 - val_loss: 0.0086\n",
      "Epoch 14/50\n",
      "122/122 - 1s - loss: 0.0094 - val_loss: 0.0082\n",
      "Epoch 15/50\n",
      "122/122 - 1s - loss: 0.0088 - val_loss: 0.0070\n",
      "Epoch 16/50\n",
      "122/122 - 1s - loss: 0.0084 - val_loss: 0.0078\n",
      "Epoch 17/50\n",
      "122/122 - 1s - loss: 0.0089 - val_loss: 0.0107\n",
      "Epoch 18/50\n",
      "122/122 - 1s - loss: 0.0098 - val_loss: 0.0118\n",
      "Epoch 19/50\n",
      "122/122 - 1s - loss: 0.0094 - val_loss: 0.0104\n",
      "Epoch 20/50\n",
      "122/122 - 1s - loss: 0.0102 - val_loss: 0.0138\n",
      "Epoch 21/50\n",
      "122/122 - 1s - loss: 0.0089 - val_loss: 0.0073\n",
      "Epoch 22/50\n",
      "122/122 - 1s - loss: 0.0093 - val_loss: 0.0076\n",
      "Epoch 23/50\n",
      "122/122 - 1s - loss: 0.0093 - val_loss: 0.0075\n",
      "Epoch 24/50\n",
      "122/122 - 1s - loss: 0.0087 - val_loss: 0.0084\n",
      "Epoch 25/50\n",
      "122/122 - 1s - loss: 0.0089 - val_loss: 0.0096\n",
      "Epoch 26/50\n",
      "122/122 - 1s - loss: 0.0085 - val_loss: 0.0091\n",
      "Epoch 27/50\n",
      "122/122 - 1s - loss: 0.0081 - val_loss: 0.0075\n",
      "Epoch 28/50\n",
      "122/122 - 1s - loss: 0.0081 - val_loss: 0.0077\n",
      "Epoch 29/50\n",
      "122/122 - 1s - loss: 0.0079 - val_loss: 0.0062\n",
      "Epoch 30/50\n",
      "122/122 - 1s - loss: 0.0088 - val_loss: 0.0078\n",
      "Epoch 31/50\n",
      "122/122 - 1s - loss: 0.0084 - val_loss: 0.0087\n",
      "Epoch 32/50\n",
      "122/122 - 1s - loss: 0.0083 - val_loss: 0.0071\n",
      "Epoch 33/50\n",
      "122/122 - 1s - loss: 0.0081 - val_loss: 0.0071\n",
      "Epoch 34/50\n",
      "122/122 - 1s - loss: 0.0086 - val_loss: 0.0081\n",
      "Epoch 35/50\n",
      "122/122 - 1s - loss: 0.0084 - val_loss: 0.0084\n",
      "Epoch 36/50\n",
      "122/122 - 1s - loss: 0.0084 - val_loss: 0.0083\n",
      "Epoch 37/50\n",
      "122/122 - 1s - loss: 0.0089 - val_loss: 0.0090\n",
      "Epoch 38/50\n",
      "122/122 - 1s - loss: 0.0085 - val_loss: 0.0084\n",
      "Epoch 39/50\n",
      "122/122 - 1s - loss: 0.0085 - val_loss: 0.0102\n",
      "Epoch 40/50\n",
      "122/122 - 1s - loss: 0.0085 - val_loss: 0.0077\n",
      "Epoch 41/50\n",
      "122/122 - 1s - loss: 0.0084 - val_loss: 0.0069\n",
      "Epoch 42/50\n",
      "122/122 - 1s - loss: 0.0083 - val_loss: 0.0063\n",
      "Epoch 43/50\n",
      "122/122 - 1s - loss: 0.0085 - val_loss: 0.0075\n",
      "Epoch 44/50\n",
      "122/122 - 1s - loss: 0.0078 - val_loss: 0.0069\n",
      "Epoch 45/50\n",
      "122/122 - 1s - loss: 0.0077 - val_loss: 0.0075\n",
      "Epoch 46/50\n",
      "122/122 - 1s - loss: 0.0083 - val_loss: 0.0091\n",
      "Epoch 47/50\n",
      "122/122 - 1s - loss: 0.0081 - val_loss: 0.0064\n",
      "Epoch 48/50\n",
      "122/122 - 1s - loss: 0.0080 - val_loss: 0.0070\n",
      "Epoch 49/50\n",
      "122/122 - 1s - loss: 0.0079 - val_loss: 0.0103\n",
      "Epoch 50/50\n",
      "122/122 - 1s - loss: 0.0081 - val_loss: 0.0074\n",
      "\n",
      "Fit time: 39.2576699256897\n",
      "\n"
     ]
    },
    {
     "data": {
      "image/png": "[encoded data removed]",
      "text/plain": [
       "<Figure size 432x288 with 1 Axes>"
      ]
     },
     "metadata": {
      "needs_background": "light"
     },
     "output_type": "display_data"
    }
   ],
   "source": [
    "import time\n",
    "\n",
    "from math import sqrt\n",
    "from numpy import concatenate\n",
    "from matplotlib import pyplot\n",
    "from pandas import read_csv\n",
    "from pandas import DataFrame\n",
    "from pandas import concat\n",
    "from sklearn.preprocessing import MinMaxScaler\n",
    "from sklearn.preprocessing import LabelEncoder\n",
    "from sklearn.metrics import mean_squared_error\n",
    "from keras.models import Sequential\n",
    "from keras.layers import Dense\n",
    "from keras.layers import LSTM\n",
    " \n",
    "# convert series to supervised learning\n",
    "def series_to_supervised(data, n_in=1, n_out=1, dropnan=True):\n",
    "    n_vars = 1 if type(data) is list else data.shape[1]\n",
    "    df = DataFrame(data)\n",
    "    cols, names = list(), list()\n",
    "    # input sequence (t-n, ... t-1)\n",
    "    for i in range(n_in, 0, -1):\n",
    "        cols.append(df.shift(i))\n",
    "        names += [('var%d(t-%d)' % (j+1, i)) for j in range(n_vars)]\n",
    "    # forecast sequence (t, t+1, ... t+n)\n",
    "    for i in range(0, n_out):\n",
    "        cols.append(df.shift(-i))\n",
    "        if i == 0:\n",
    "            names += [('var%d(t)' % (j+1)) for j in range(n_vars)]\n",
    "        else:\n",
    "            names += [('var%d(t+%d)' % (j+1, i)) for j in range(n_vars)]\n",
    "    # put it all together\n",
    "    agg = concat(cols, axis=1)\n",
    "    agg.columns = names\n",
    "    # drop rows with NaN values\n",
    "    if dropnan:\n",
    "        agg.dropna(inplace=True)\n",
    "    return agg\n",
    " \n",
    "# load dataset\n",
    "dataset = read_csv('pollution.csv', header=0, index_col=0)\n",
    "values = dataset.values\n",
    "# integer encode direction\n",
    "encoder = LabelEncoder()\n",
    "values[:,-4] = encoder.fit_transform(values[:,-4])\n",
    "# ensure all data is float\n",
    "values = values.astype('float32')\n",
    "# normalize features\n",
    "scaler = MinMaxScaler(feature_range=(0, 1))\n",
    "scaled = scaler.fit_transform(values)\n",
    "# frame as supervised learning\n",
    "reframed = series_to_supervised(scaled, 1, 1)\n",
    "# drop columns we don't want to predict\n",
    "reframed.drop(reframed.columns[[9,10,11,12,13,14,15]], axis=1, inplace=True)\n",
    "print(reframed.head())\n",
    " \n",
    "# split into train and test sets\n",
    "values = reframed.values\n",
    "n_train_hours = 365 * 24\n",
    "train = values[:n_train_hours, :]\n",
    "test = values[n_train_hours:, :]\n",
    "# split into input and outputs\n",
    "train_X, train_y = train[:, :-1], train[:, -1]\n",
    "test_X, test_y = test[:, :-1], test[:, -1]\n",
    "# reshape input to be 3D [samples, timesteps, features]\n",
    "train_X = train_X.reshape((train_X.shape[0], 1, train_X.shape[1]))\n",
    "test_X = test_X.reshape((test_X.shape[0], 1, test_X.shape[1]))\n",
    "print(train_X.shape, train_y.shape, test_X.shape, test_y.shape)\n",
    " \n",
    "start = time.time()\n",
    "\n",
    "# design network\n",
    "model = Sequential()\n",
    "model.add(LSTM(50, input_shape=(train_X.shape[1], train_X.shape[2])))\n",
    "model.add(Dense(1))\n",
    "model.compile(loss='mae', optimizer='adam')\n",
    "# fit network\n",
    "history = model.fit(train_X, train_y, epochs=50, batch_size=72, validation_data=(test_X, test_y), verbose=2, shuffle=False)\n",
    "\n",
    "end = time.time()\n",
    "print('\\nFit time: ' + str(end - start) + '\\n')\n",
    "\n",
    "# plot history\n",
    "pyplot.plot(history.history['loss'], label='train')\n",
    "pyplot.plot(history.history['val_loss'], label='test')\n",
    "pyplot.legend()\n",
    "pyplot.show()\n",
    " \n",
    "# # make a prediction\n",
    "# yhat = model.predict(test_X)\n",
    "# test_X = test_X.reshape((test_X.shape[0], test_X.shape[2]))\n",
    "# # invert scaling for forecast\n",
    "# inv_yhat = concatenate((yhat, test_X[:, 1:]), axis=1)\n",
    "# inv_yhat = scaler.inverse_transform(inv_yhat)\n",
    "# inv_yhat = inv_yhat[:,0]\n",
    "# # invert scaling for actual\n",
    "# test_y = test_y.reshape((len(test_y), 1))\n",
    "# inv_y = concatenate((test_y, test_X[:, 1:]), axis=1)\n",
    "# inv_y = scaler.inverse_transform(inv_y)\n",
    "# inv_y = inv_y[:,0]\n",
    "# # calculate RMSE\n",
    "# rmse = sqrt(mean_squared_error(inv_y, inv_yhat))\n",
    "# print('Test RMSE: %.3f' % rmse)"
   ]
  },
  {
   "cell_type": "code",
   "execution_count": null,
   "metadata": {},
   "outputs": [],
   "source": []
  }
 ],
 "metadata": {
  "kernelspec": {
   "display_name": "Python 3",
   "language": "python",
   "name": "python3"
  },
  "language_info": {
   "codemirror_mode": {
    "name": "ipython",
    "version": 3
   },
   "file_extension": ".py",
   "mimetype": "text/x-python",
   "name": "python",
   "nbconvert_exporter": "python",
   "pygments_lexer": "ipython3",
   "version": "3.8.5"
  }
 },
 "nbformat": 4,
 "nbformat_minor": 4
}
